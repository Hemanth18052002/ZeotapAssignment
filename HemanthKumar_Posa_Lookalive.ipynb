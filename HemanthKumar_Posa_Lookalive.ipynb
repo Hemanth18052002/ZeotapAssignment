{
 "cells": [
  {
   "cell_type": "markdown",
   "metadata": {},
   "source": [
    "## Task 2: Lookalike Model"
   ]
  },
  {
   "cell_type": "markdown",
   "metadata": {},
   "source": [
    "#### 1. Import libraries"
   ]
  },
  {
   "cell_type": "code",
   "execution_count": 1,
   "metadata": {},
   "outputs": [],
   "source": [
    "import pandas as pd\n",
    "import numpy as np\n",
    "from sklearn.metrics.pairwise import cosine_similarity\n",
    "from sklearn.preprocessing import StandardScaler"
   ]
  },
  {
   "cell_type": "markdown",
   "metadata": {},
   "source": [
    "#### 2. Load datasets\n"
   ]
  },
  {
   "cell_type": "code",
   "execution_count": 2,
   "metadata": {},
   "outputs": [],
   "source": [
    "customers = pd.read_csv(r'dataset/Customers.csv')\n",
    "products = pd.read_csv(r'dataset/Products.csv')\n",
    "transactions = pd.read_csv(r'dataset/Transactions.csv')"
   ]
  },
  {
   "cell_type": "markdown",
   "metadata": {},
   "source": [
    "#### Changing data type"
   ]
  },
  {
   "cell_type": "code",
   "execution_count": 3,
   "metadata": {},
   "outputs": [],
   "source": [
    "transactions['TransactionDate'] = pd.to_datetime(transactions['TransactionDate'])\n",
    "customers['SignupDate'] = pd.to_datetime(customers['SignupDate'])"
   ]
  },
  {
   "cell_type": "markdown",
   "metadata": {},
   "source": [
    "#### 3. Feature Engineering:"
   ]
  },
  {
   "cell_type": "markdown",
   "metadata": {},
   "source": [
    "#### 3.1 Grouping the customers based on CustomerID"
   ]
  },
  {
   "cell_type": "code",
   "execution_count": 4,
   "metadata": {},
   "outputs": [],
   "source": [
    "customer_transactions = transactions.groupby('CustomerID').agg({\n",
    "    'TotalValue': 'sum',\n",
    "    'Quantity': 'sum',\n",
    "    'Price': 'mean',\n",
    "    'TransactionDate': 'max'\n",
    "}).reset_index()"
   ]
  },
  {
   "cell_type": "code",
   "execution_count": 5,
   "metadata": {},
   "outputs": [
    {
     "data": {
      "text/html": [
       "<div>\n",
       "<style scoped>\n",
       "    .dataframe tbody tr th:only-of-type {\n",
       "        vertical-align: middle;\n",
       "    }\n",
       "\n",
       "    .dataframe tbody tr th {\n",
       "        vertical-align: top;\n",
       "    }\n",
       "\n",
       "    .dataframe thead th {\n",
       "        text-align: right;\n",
       "    }\n",
       "</style>\n",
       "<table border=\"1\" class=\"dataframe\">\n",
       "  <thead>\n",
       "    <tr style=\"text-align: right;\">\n",
       "      <th></th>\n",
       "      <th>CustomerID</th>\n",
       "      <th>TotalValue</th>\n",
       "      <th>Quantity</th>\n",
       "      <th>Price</th>\n",
       "      <th>TransactionDate</th>\n",
       "    </tr>\n",
       "  </thead>\n",
       "  <tbody>\n",
       "    <tr>\n",
       "      <th>0</th>\n",
       "      <td>C0001</td>\n",
       "      <td>3354.52</td>\n",
       "      <td>12</td>\n",
       "      <td>278.334000</td>\n",
       "      <td>2024-11-02 17:04:16</td>\n",
       "    </tr>\n",
       "    <tr>\n",
       "      <th>1</th>\n",
       "      <td>C0002</td>\n",
       "      <td>1862.74</td>\n",
       "      <td>10</td>\n",
       "      <td>208.920000</td>\n",
       "      <td>2024-12-03 01:41:41</td>\n",
       "    </tr>\n",
       "    <tr>\n",
       "      <th>2</th>\n",
       "      <td>C0003</td>\n",
       "      <td>2725.38</td>\n",
       "      <td>14</td>\n",
       "      <td>195.707500</td>\n",
       "      <td>2024-08-24 18:54:04</td>\n",
       "    </tr>\n",
       "    <tr>\n",
       "      <th>3</th>\n",
       "      <td>C0004</td>\n",
       "      <td>5354.88</td>\n",
       "      <td>23</td>\n",
       "      <td>240.636250</td>\n",
       "      <td>2024-12-23 14:13:52</td>\n",
       "    </tr>\n",
       "    <tr>\n",
       "      <th>4</th>\n",
       "      <td>C0005</td>\n",
       "      <td>2034.24</td>\n",
       "      <td>7</td>\n",
       "      <td>291.603333</td>\n",
       "      <td>2024-11-04 00:30:22</td>\n",
       "    </tr>\n",
       "  </tbody>\n",
       "</table>\n",
       "</div>"
      ],
      "text/plain": [
       "  CustomerID  TotalValue  Quantity       Price     TransactionDate\n",
       "0      C0001     3354.52        12  278.334000 2024-11-02 17:04:16\n",
       "1      C0002     1862.74        10  208.920000 2024-12-03 01:41:41\n",
       "2      C0003     2725.38        14  195.707500 2024-08-24 18:54:04\n",
       "3      C0004     5354.88        23  240.636250 2024-12-23 14:13:52\n",
       "4      C0005     2034.24         7  291.603333 2024-11-04 00:30:22"
      ]
     },
     "execution_count": 5,
     "metadata": {},
     "output_type": "execute_result"
    }
   ],
   "source": [
    "customer_transactions.head()"
   ]
  },
  {
   "cell_type": "code",
   "execution_count": 6,
   "metadata": {},
   "outputs": [],
   "source": [
    "customer_data = pd.merge(customers, customer_transactions, on='CustomerID')"
   ]
  },
  {
   "cell_type": "code",
   "execution_count": 7,
   "metadata": {},
   "outputs": [],
   "source": [
    "customer_data['Recency'] = (pd.to_datetime('today') - customer_data['TransactionDate']).dt.days\n"
   ]
  },
  {
   "cell_type": "markdown",
   "metadata": {},
   "source": [
    "#### 3.2 Normalization"
   ]
  },
  {
   "cell_type": "code",
   "execution_count": 8,
   "metadata": {},
   "outputs": [],
   "source": [
    "scaler = StandardScaler()\n",
    "numerical_features = ['TotalValue', 'Quantity', 'Price', 'Recency']\n",
    "customer_data[numerical_features] = scaler.fit_transform(customer_data[numerical_features])\n"
   ]
  },
  {
   "cell_type": "markdown",
   "metadata": {},
   "source": [
    "#### 3.3 Calculate Cosine similarity Similarity"
   ]
  },
  {
   "cell_type": "code",
   "execution_count": 9,
   "metadata": {},
   "outputs": [],
   "source": [
    "# Cosine similarity calculation\n",
    "features = customer_data[numerical_features].values\n",
    "cosine_similarities = cosine_similarity(features)"
   ]
  },
  {
   "cell_type": "code",
   "execution_count": 10,
   "metadata": {},
   "outputs": [],
   "source": [
    "# Create lookalike recommendations\n",
    "lookalike_results = {}\n",
    "for idx, row in customer_data.iterrows():\n",
    "    target_customer_id = row['CustomerID']\n",
    "    similarities = cosine_similarities[idx]\n",
    "    similarities[idx] = 0\n",
    "    similar_indices = similarities.argsort()[-3:][::-1]\n",
    "    similar_customers = customer_data.iloc[similar_indices]\n",
    "    \n",
    "    lookalike_results[target_customer_id] = [(similar_customers.iloc[i]['CustomerID'], similarities[similar_indices[i]]) for i in range(3)]\n"
   ]
  },
  {
   "cell_type": "code",
   "execution_count": 11,
   "metadata": {},
   "outputs": [],
   "source": [
    "lookalike_df = []\n",
    "for cust_id, lookalikes in lookalike_results.items():\n",
    "    if int(cust_id[-2:])>20:\n",
    "        break\n",
    "    for lookalike, score in lookalikes:\n",
    "        lookalike_df.append({'CustomerID': cust_id, 'LookalikeCustomerID': lookalike, 'SimilarityScore': score})\n"
   ]
  },
  {
   "cell_type": "markdown",
   "metadata": {},
   "source": [
    "#### 4. Save Results"
   ]
  },
  {
   "cell_type": "code",
   "execution_count": 12,
   "metadata": {},
   "outputs": [],
   "source": [
    "lookalike_df = pd.DataFrame(lookalike_df)\n",
    "lookalike_df.to_csv(r'dataset/Lookalike.csv', index=False)"
   ]
  },
  {
   "cell_type": "code",
   "execution_count": 20,
   "metadata": {},
   "outputs": [
    {
     "name": "stdout",
     "output_type": "stream",
     "text": [
      "  CustomerID        CustomerName         Region SignupDate  Segment\n",
      "0      C0001    Lawrence Carroll  South America 2022-07-10      1.0\n",
      "1      C0002      Elizabeth Lutz           Asia 2022-02-13      1.0\n",
      "2      C0003      Michael Rivera  South America 2024-03-07      1.0\n",
      "3      C0004  Kathleen Rodriguez  South America 2022-10-09      0.0\n",
      "4      C0005         Laura Weber           Asia 2022-08-15      1.0\n"
     ]
    }
   ],
   "source": [
    "from sklearn.cluster import KMeans\n",
    "import pandas as pd\n",
    "\n",
    "customer_features = transactions.groupby('CustomerID').agg({\n",
    "    'TotalValue': 'sum',\n",
    "    'TransactionID': 'count',\n",
    "    'Quantity': 'sum', \n",
    "}).reset_index()\n",
    "\n",
    "\n",
    "customer_features.rename(columns={'TotalValue': 'TotalSpending',\n",
    "                                  'TransactionID': 'TransactionFrequency',\n",
    "                                  'Quantity': 'TotalQuantity'}, inplace=True)\n",
    "\n",
    "\n",
    "kmeans = KMeans(n_clusters=5, random_state=42)\n",
    "customer_features['Segment'] = kmeans.fit_predict(customer_features[['TotalSpending', 'TransactionFrequency', 'TotalQuantity']])\n",
    "\n",
    "customers_with_segments = customers.merge(customer_features[['CustomerID', 'Segment']], on='CustomerID', how='left')\n",
    "print(customers_with_segments.head())\n"
   ]
  },
  {
   "cell_type": "code",
   "execution_count": 21,
   "metadata": {},
   "outputs": [
    {
     "name": "stdout",
     "output_type": "stream",
     "text": [
      "Segment Alignment Accuracy: 0.66\n"
     ]
    }
   ],
   "source": [
    "def evaluate_alignment(lookalike_results, customer_segments):\n",
    "    correct_recommendations = 0\n",
    "    total_recommendations = 0\n",
    "\n",
    "    for cust_id, lookalikes in lookalike_results.items():\n",
    "        cust_segment = customer_segments[customer_segments['CustomerID'] == cust_id]['Segment'].values[0]\n",
    "        for lookalike, _ in lookalikes:\n",
    "            lookalike_segment = customer_segments[customer_segments['CustomerID'] == lookalike]['Segment'].values[0]\n",
    "            if cust_segment == lookalike_segment:\n",
    "                correct_recommendations += 1\n",
    "            total_recommendations += 1\n",
    "\n",
    "    accuracy = correct_recommendations / total_recommendations\n",
    "    print(f\"Segment Alignment Accuracy: {accuracy:.2f}\")\n",
    "\n",
    "evaluate_alignment(lookalike_results, customers_with_segments)\n"
   ]
  },
  {
   "cell_type": "code",
   "execution_count": null,
   "metadata": {},
   "outputs": [],
   "source": []
  }
 ],
 "metadata": {
  "kernelspec": {
   "display_name": "tf_gpu_env",
   "language": "python",
   "name": "python3"
  },
  "language_info": {
   "codemirror_mode": {
    "name": "ipython",
    "version": 3
   },
   "file_extension": ".py",
   "mimetype": "text/x-python",
   "name": "python",
   "nbconvert_exporter": "python",
   "pygments_lexer": "ipython3",
   "version": "3.10.15"
  }
 },
 "nbformat": 4,
 "nbformat_minor": 2
}
